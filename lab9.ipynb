{
 "cells": [
  {
   "cell_type": "code",
   "execution_count": 3,
   "metadata": {},
   "outputs": [],
   "source": [
    "from flare.data_science.features import domain_tld_extract\n",
    "import pandas as pd \n",
    "import numpy as np \n",
    "import matplotlib.pyplot as plt \n",
    "import random\n",
    "import json\n",
    "\n"
   ]
  },
  {
   "cell_type": "code",
   "execution_count": 5,
   "metadata": {},
   "outputs": [],
   "source": [
    "data = [ json.loads(line) \n",
    "            for line in open('files/large_eve.json', 'r', encoding='utf-8') ]"
   ]
  },
  {
   "cell_type": "markdown",
   "metadata": {},
   "source": [
    "EJERCICIo 3"
   ]
  },
  {
   "cell_type": "code",
   "execution_count": 6,
   "metadata": {},
   "outputs": [
    {
     "name": "stdout",
     "output_type": "stream",
     "text": [
      "746909\n"
     ]
    }
   ],
   "source": [
    "print(len(data))"
   ]
  },
  {
   "cell_type": "code",
   "execution_count": 8,
   "metadata": {},
   "outputs": [
    {
     "data": {
      "text/plain": [
       "[{'timestamp': '2017-07-22T17:33:15.784100-0500',\n",
       "  'flow_id': 283570730437312,\n",
       "  'pcap_cnt': 18519,\n",
       "  'event_type': 'alert',\n",
       "  'vlan': 130,\n",
       "  'src_ip': '192.168.203.200',\n",
       "  'src_port': 2328,\n",
       "  'dest_ip': '192.181.145.109',\n",
       "  'dest_port': 445,\n",
       "  'proto': 'TCP',\n",
       "  'alert': {'action': 'allowed',\n",
       "   'gid': 1,\n",
       "   'signature_id': 2001569,\n",
       "   'rev': 15,\n",
       "   'signature': 'ET SCAN Behavioral Unusual Port 445 traffic Potential Scan or Infection',\n",
       "   'category': 'Misc activity',\n",
       "   'severity': 3}},\n",
       " {'timestamp': '2017-07-22T17:33:16.571273-0500',\n",
       "  'flow_id': 1519048138171115,\n",
       "  'pcap_cnt': 21531,\n",
       "  'event_type': 'ssh',\n",
       "  'vlan': 140,\n",
       "  'src_ip': '192.168.204.60',\n",
       "  'src_port': 62990,\n",
       "  'dest_ip': '192.168.26.254',\n",
       "  'dest_port': 22,\n",
       "  'proto': 'TCP',\n",
       "  'ssh': {'client': {'proto_version': '2.0',\n",
       "    'software_version': 'OpenSSH_5.0'},\n",
       "   'server': {'proto_version': '1.99', 'software_version': 'Cisco-1.25'}}}]"
      ]
     },
     "execution_count": 8,
     "metadata": {},
     "output_type": "execute_result"
    }
   ],
   "source": [
    "data[0:2]"
   ]
  },
  {
   "cell_type": "markdown",
   "metadata": {},
   "source": []
  },
  {
   "cell_type": "code",
   "execution_count": 9,
   "metadata": {},
   "outputs": [
    {
     "name": "stdout",
     "output_type": "stream",
     "text": [
      "15749\n"
     ]
    }
   ],
   "source": [
    "dns_data = len([x for x in data if 'dns' in x])\n",
    "print(dns_data)"
   ]
  },
  {
   "cell_type": "code",
   "execution_count": 10,
   "metadata": {},
   "outputs": [
    {
     "data": {
      "text/plain": [
       "[{'timestamp': '2017-07-22T19:08:35.796488-0500',\n",
       "  'flow_id': 1438444861728383,\n",
       "  'pcap_cnt': 2558053,\n",
       "  'event_type': 'dns',\n",
       "  'vlan': 150,\n",
       "  'src_ip': '192.168.207.4',\n",
       "  'src_port': 53,\n",
       "  'dest_ip': '192.168.205.188',\n",
       "  'dest_port': 36542,\n",
       "  'proto': 'UDP',\n",
       "  'dns': {'type': 'answer',\n",
       "   'id': 43797,\n",
       "   'rcode': 'NXDOMAIN',\n",
       "   'rrname': 'versioncheck.addons.mozilla.org'}},\n",
       " {'timestamp': '2017-07-22T19:29:19.470346-0500',\n",
       "  'flow_id': 1119708977769802,\n",
       "  'pcap_cnt': 3355631,\n",
       "  'event_type': 'dns',\n",
       "  'vlan': 150,\n",
       "  'src_ip': '192.168.205.188',\n",
       "  'src_port': 42994,\n",
       "  'dest_ip': '192.168.207.4',\n",
       "  'dest_port': 53,\n",
       "  'proto': 'UDP',\n",
       "  'dns': {'type': 'query',\n",
       "   'id': 48722,\n",
       "   'rrname': 'ftp.usf.edu',\n",
       "   'rrtype': 'A',\n",
       "   'tx_id': 0}}]"
      ]
     },
     "execution_count": 10,
     "metadata": {},
     "output_type": "execute_result"
    }
   ],
   "source": [
    "dns_data = [x for x in data if 'dns' in x]\n",
    "random.sample(dns_data, 2)"
   ]
  },
  {
   "cell_type": "code",
   "execution_count": 11,
   "metadata": {},
   "outputs": [
    {
     "data": {
      "text/html": [
       "<div>\n",
       "<style scoped>\n",
       "    .dataframe tbody tr th:only-of-type {\n",
       "        vertical-align: middle;\n",
       "    }\n",
       "\n",
       "    .dataframe tbody tr th {\n",
       "        vertical-align: top;\n",
       "    }\n",
       "\n",
       "    .dataframe thead th {\n",
       "        text-align: right;\n",
       "    }\n",
       "</style>\n",
       "<table border=\"1\" class=\"dataframe\">\n",
       "  <thead>\n",
       "    <tr style=\"text-align: right;\">\n",
       "      <th></th>\n",
       "      <th>dns.rrname</th>\n",
       "      <th>dns.rrtype</th>\n",
       "    </tr>\n",
       "  </thead>\n",
       "  <tbody>\n",
       "    <tr>\n",
       "      <th>2</th>\n",
       "      <td>api.wunderground.com</td>\n",
       "      <td>A</td>\n",
       "    </tr>\n",
       "    <tr>\n",
       "      <th>38</th>\n",
       "      <td>stork79.dropbox.com</td>\n",
       "      <td>A</td>\n",
       "    </tr>\n",
       "    <tr>\n",
       "      <th>39</th>\n",
       "      <td>hpca-tier2.office.aol.com.ad.aol.aoltw.net</td>\n",
       "      <td>A</td>\n",
       "    </tr>\n",
       "    <tr>\n",
       "      <th>43</th>\n",
       "      <td>api.wunderground.com</td>\n",
       "      <td>A</td>\n",
       "    </tr>\n",
       "    <tr>\n",
       "      <th>44</th>\n",
       "      <td>safebrowsing.clients.google.com.home</td>\n",
       "      <td>A</td>\n",
       "    </tr>\n",
       "    <tr>\n",
       "      <th>...</th>\n",
       "      <td>...</td>\n",
       "      <td>...</td>\n",
       "    </tr>\n",
       "    <tr>\n",
       "      <th>714913</th>\n",
       "      <td>secure.informaction.com.hsd1.pa.comcast.net</td>\n",
       "      <td>A</td>\n",
       "    </tr>\n",
       "    <tr>\n",
       "      <th>715127</th>\n",
       "      <td>192.168.22.201:.stayonline.net</td>\n",
       "      <td>A</td>\n",
       "    </tr>\n",
       "    <tr>\n",
       "      <th>715804</th>\n",
       "      <td>wpad.aol.aoltw.net</td>\n",
       "      <td>A</td>\n",
       "    </tr>\n",
       "    <tr>\n",
       "      <th>715910</th>\n",
       "      <td>client-software.real.com</td>\n",
       "      <td>A</td>\n",
       "    </tr>\n",
       "    <tr>\n",
       "      <th>716751</th>\n",
       "      <td>en-us.start3.mozilla.com</td>\n",
       "      <td>A</td>\n",
       "    </tr>\n",
       "  </tbody>\n",
       "</table>\n",
       "<p>2849 rows × 2 columns</p>\n",
       "</div>"
      ],
      "text/plain": [
       "                                         dns.rrname dns.rrtype\n",
       "2                              api.wunderground.com          A\n",
       "38                              stork79.dropbox.com          A\n",
       "39       hpca-tier2.office.aol.com.ad.aol.aoltw.net          A\n",
       "43                             api.wunderground.com          A\n",
       "44             safebrowsing.clients.google.com.home          A\n",
       "...                                             ...        ...\n",
       "714913  secure.informaction.com.hsd1.pa.comcast.net          A\n",
       "715127               192.168.22.201:.stayonline.net          A\n",
       "715804                           wpad.aol.aoltw.net          A\n",
       "715910                     client-software.real.com          A\n",
       "716751                     en-us.start3.mozilla.com          A\n",
       "\n",
       "[2849 rows x 2 columns]"
      ]
     },
     "execution_count": 11,
     "metadata": {},
     "output_type": "execute_result"
    }
   ],
   "source": [
    "data_norm = pd.json_normalize(data)\n",
    "a_records = data_norm[data_norm['dns.rrtype']==('A')][['dns.rrname','dns.rrtype']]\n",
    "a_records"
   ]
  },
  {
   "cell_type": "code",
   "execution_count": 12,
   "metadata": {},
   "outputs": [
    {
     "name": "stdout",
     "output_type": "stream",
     "text": [
      "Numero de registros A:  2849\n",
      "Numero de registros A unicos:  177\n"
     ]
    }
   ],
   "source": [
    "print(\"Numero de registros A: \", len(a_records))\n",
    "unique_records_domain = a_records['dns.rrname'].unique()\n",
    "print(\"Numero de registros A unicos: \", len(unique_records_domain))"
   ]
  },
  {
   "cell_type": "code",
   "execution_count": 19,
   "metadata": {},
   "outputs": [
    {
     "data": {
      "text/html": [
       "<div>\n",
       "<style scoped>\n",
       "    .dataframe tbody tr th:only-of-type {\n",
       "        vertical-align: middle;\n",
       "    }\n",
       "\n",
       "    .dataframe tbody tr th {\n",
       "        vertical-align: top;\n",
       "    }\n",
       "\n",
       "    .dataframe thead th {\n",
       "        text-align: right;\n",
       "    }\n",
       "</style>\n",
       "<table border=\"1\" class=\"dataframe\">\n",
       "  <thead>\n",
       "    <tr style=\"text-align: right;\">\n",
       "      <th></th>\n",
       "      <th>domain_tld</th>\n",
       "    </tr>\n",
       "  </thead>\n",
       "  <tbody>\n",
       "    <tr>\n",
       "      <th>0</th>\n",
       "      <td>wunderground.com</td>\n",
       "    </tr>\n",
       "    <tr>\n",
       "      <th>1</th>\n",
       "      <td>dropbox.com</td>\n",
       "    </tr>\n",
       "    <tr>\n",
       "      <th>2</th>\n",
       "      <td>aoltw.net</td>\n",
       "    </tr>\n",
       "    <tr>\n",
       "      <th>3</th>\n",
       "      <td>safebrowsing.clients.google.com.home</td>\n",
       "    </tr>\n",
       "    <tr>\n",
       "      <th>4</th>\n",
       "      <td>mozilla.com</td>\n",
       "    </tr>\n",
       "  </tbody>\n",
       "</table>\n",
       "</div>"
      ],
      "text/plain": [
       "                             domain_tld\n",
       "0                      wunderground.com\n",
       "1                           dropbox.com\n",
       "2                             aoltw.net\n",
       "3  safebrowsing.clients.google.com.home\n",
       "4                           mozilla.com"
      ]
     },
     "execution_count": 19,
     "metadata": {},
     "output_type": "execute_result"
    }
   ],
   "source": [
    "df = pd.DataFrame(unique_records_domain, columns=['domain'])\n",
    "\n",
    "domain_tld = []\n",
    "dnsData = df.reset_index()\n",
    "for col, row in dnsData.iterrows():\n",
    "    domain_tld.append(domain_tld_extract(row['domain']))\n",
    "\n",
    "dnsData['domain_tld'] = domain_tld\n",
    "\n",
    "dnsData = dnsData[['domain_tld']]\n",
    "dnsData.head()\n",
    "\n"
   ]
  },
  {
   "cell_type": "code",
   "execution_count": 20,
   "metadata": {},
   "outputs": [
    {
     "data": {
      "text/html": [
       "<div>\n",
       "<style scoped>\n",
       "    .dataframe tbody tr th:only-of-type {\n",
       "        vertical-align: middle;\n",
       "    }\n",
       "\n",
       "    .dataframe tbody tr th {\n",
       "        vertical-align: top;\n",
       "    }\n",
       "\n",
       "    .dataframe thead th {\n",
       "        text-align: right;\n",
       "    }\n",
       "</style>\n",
       "<table border=\"1\" class=\"dataframe\">\n",
       "  <thead>\n",
       "    <tr style=\"text-align: right;\">\n",
       "      <th></th>\n",
       "      <th>domain_tld</th>\n",
       "    </tr>\n",
       "  </thead>\n",
       "  <tbody>\n",
       "    <tr>\n",
       "      <th>0</th>\n",
       "      <td>wunderground.com</td>\n",
       "    </tr>\n",
       "    <tr>\n",
       "      <th>1</th>\n",
       "      <td>dropbox.com</td>\n",
       "    </tr>\n",
       "    <tr>\n",
       "      <th>2</th>\n",
       "      <td>aoltw.net</td>\n",
       "    </tr>\n",
       "    <tr>\n",
       "      <th>3</th>\n",
       "      <td>safebrowsing.clients.google.com.home</td>\n",
       "    </tr>\n",
       "    <tr>\n",
       "      <th>4</th>\n",
       "      <td>mozilla.com</td>\n",
       "    </tr>\n",
       "    <tr>\n",
       "      <th>...</th>\n",
       "      <td>...</td>\n",
       "    </tr>\n",
       "    <tr>\n",
       "      <th>166</th>\n",
       "      <td>192.168.21-28.0</td>\n",
       "    </tr>\n",
       "    <tr>\n",
       "      <th>167</th>\n",
       "      <td>ejfodfmfxlkgifuf.xyz</td>\n",
       "    </tr>\n",
       "    <tr>\n",
       "      <th>172</th>\n",
       "      <td>ntp.ubuntu.com.localdomain</td>\n",
       "    </tr>\n",
       "    <tr>\n",
       "      <th>174</th>\n",
       "      <td>verisign.com</td>\n",
       "    </tr>\n",
       "    <tr>\n",
       "      <th>176</th>\n",
       "      <td>real.com</td>\n",
       "    </tr>\n",
       "  </tbody>\n",
       "</table>\n",
       "<p>102 rows × 1 columns</p>\n",
       "</div>"
      ],
      "text/plain": [
       "                               domain_tld\n",
       "0                        wunderground.com\n",
       "1                             dropbox.com\n",
       "2                               aoltw.net\n",
       "3    safebrowsing.clients.google.com.home\n",
       "4                             mozilla.com\n",
       "..                                    ...\n",
       "166                       192.168.21-28.0\n",
       "167                  ejfodfmfxlkgifuf.xyz\n",
       "172            ntp.ubuntu.com.localdomain\n",
       "174                          verisign.com\n",
       "176                              real.com\n",
       "\n",
       "[102 rows x 1 columns]"
      ]
     },
     "execution_count": 20,
     "metadata": {},
     "output_type": "execute_result"
    }
   ],
   "source": [
    "tldRemoveCaracter = ['', ' ', '192.168.22.110phpmyadmin', '192.168.22.110phpmyadmin.localdomain', '\"192.168.206.56\"', '192.168.26-27.0', '192.168.21.1201', '1922.168.22.254', '1922.168.22.254.home', '192.168.21-28.0.home', '192.168.22.201:', '192.168.22.201:.stayonline.net']\n",
    "cleanDnsData = dnsData[~dnsData['domain_tld'].isin(tldRemoveCaracter)]\n",
    "\n",
    "# remove duplicates\n",
    "cleanDnsData = cleanDnsData.drop_duplicates(subset=['domain_tld'])\n",
    "\n",
    "cleanDnsData\n",
    "\n"
   ]
  },
  {
   "cell_type": "code",
   "execution_count": 21,
   "metadata": {},
   "outputs": [
    {
     "name": "stdout",
     "output_type": "stream",
     "text": [
      "TLD unicos:  102\n"
     ]
    }
   ],
   "source": [
    "print(\"TLD unicos: \", len(cleanDnsData))"
   ]
  },
  {
   "cell_type": "code",
   "execution_count": 26,
   "metadata": {},
   "outputs": [
    {
     "name": "stderr",
     "output_type": "stream",
     "text": [
      "c:\\Users\\venta\\AppData\\Local\\Programs\\Python\\Python310\\lib\\site-packages\\sklearn\\base.py:329: UserWarning: Trying to unpickle estimator DecisionTreeClassifier from version 1.0.2 when using version 1.1.2. This might lead to breaking code or invalid results. Use at your own risk. For more info please refer to:\n",
      "https://scikit-learn.org/stable/model_persistence.html#security-maintainability-limitations\n",
      "  warnings.warn(\n"
     ]
    },
    {
     "data": {
      "text/html": [
       "<div>\n",
       "<style scoped>\n",
       "    .dataframe tbody tr th:only-of-type {\n",
       "        vertical-align: middle;\n",
       "    }\n",
       "\n",
       "    .dataframe tbody tr th {\n",
       "        vertical-align: top;\n",
       "    }\n",
       "\n",
       "    .dataframe thead th {\n",
       "        text-align: right;\n",
       "    }\n",
       "</style>\n",
       "<table border=\"1\" class=\"dataframe\">\n",
       "  <thead>\n",
       "    <tr style=\"text-align: right;\">\n",
       "      <th></th>\n",
       "      <th>domain_tld</th>\n",
       "      <th>isDGA</th>\n",
       "    </tr>\n",
       "  </thead>\n",
       "  <tbody>\n",
       "    <tr>\n",
       "      <th>0</th>\n",
       "      <td>wunderground.com</td>\n",
       "      <td>0</td>\n",
       "    </tr>\n",
       "    <tr>\n",
       "      <th>1</th>\n",
       "      <td>dropbox.com</td>\n",
       "      <td>1</td>\n",
       "    </tr>\n",
       "    <tr>\n",
       "      <th>2</th>\n",
       "      <td>aoltw.net</td>\n",
       "      <td>1</td>\n",
       "    </tr>\n",
       "    <tr>\n",
       "      <th>3</th>\n",
       "      <td>safebrowsing.clients.google.com.home</td>\n",
       "      <td>0</td>\n",
       "    </tr>\n",
       "    <tr>\n",
       "      <th>4</th>\n",
       "      <td>mozilla.com</td>\n",
       "      <td>0</td>\n",
       "    </tr>\n",
       "    <tr>\n",
       "      <th>...</th>\n",
       "      <td>...</td>\n",
       "      <td>...</td>\n",
       "    </tr>\n",
       "    <tr>\n",
       "      <th>166</th>\n",
       "      <td>192.168.21-28.0</td>\n",
       "      <td>1</td>\n",
       "    </tr>\n",
       "    <tr>\n",
       "      <th>167</th>\n",
       "      <td>ejfodfmfxlkgifuf.xyz</td>\n",
       "      <td>1</td>\n",
       "    </tr>\n",
       "    <tr>\n",
       "      <th>172</th>\n",
       "      <td>ntp.ubuntu.com.localdomain</td>\n",
       "      <td>1</td>\n",
       "    </tr>\n",
       "    <tr>\n",
       "      <th>174</th>\n",
       "      <td>verisign.com</td>\n",
       "      <td>0</td>\n",
       "    </tr>\n",
       "    <tr>\n",
       "      <th>176</th>\n",
       "      <td>real.com</td>\n",
       "      <td>1</td>\n",
       "    </tr>\n",
       "  </tbody>\n",
       "</table>\n",
       "<p>102 rows × 2 columns</p>\n",
       "</div>"
      ],
      "text/plain": [
       "                               domain_tld  isDGA\n",
       "0                        wunderground.com      0\n",
       "1                             dropbox.com      1\n",
       "2                               aoltw.net      1\n",
       "3    safebrowsing.clients.google.com.home      0\n",
       "4                             mozilla.com      0\n",
       "..                                    ...    ...\n",
       "166                       192.168.21-28.0      1\n",
       "167                  ejfodfmfxlkgifuf.xyz      1\n",
       "172            ntp.ubuntu.com.localdomain      1\n",
       "174                          verisign.com      0\n",
       "176                              real.com      1\n",
       "\n",
       "[102 rows x 2 columns]"
      ]
     },
     "execution_count": 26,
     "metadata": {},
     "output_type": "execute_result"
    }
   ],
   "source": [
    "import clasificador\n",
    "\n",
    "new_df = clasificador.clasificacion(cleanDnsData)\n",
    "\n",
    "new_df\n",
    "\n"
   ]
  },
  {
   "cell_type": "code",
   "execution_count": 27,
   "metadata": {},
   "outputs": [
    {
     "name": "stdout",
     "output_type": "stream",
     "text": [
      "DGA:  35\n"
     ]
    }
   ],
   "source": [
    "df_DGA = new_df[(new_df['isDGA'] == 1)]\n",
    "\n",
    "print(\"DGA: \", len(df_DGA))\n",
    "\n"
   ]
  },
  {
   "cell_type": "code",
   "execution_count": 28,
   "metadata": {},
   "outputs": [
    {
     "data": {
      "text/html": [
       "<div>\n",
       "<style scoped>\n",
       "    .dataframe tbody tr th:only-of-type {\n",
       "        vertical-align: middle;\n",
       "    }\n",
       "\n",
       "    .dataframe tbody tr th {\n",
       "        vertical-align: top;\n",
       "    }\n",
       "\n",
       "    .dataframe thead th {\n",
       "        text-align: right;\n",
       "    }\n",
       "</style>\n",
       "<table border=\"1\" class=\"dataframe\">\n",
       "  <thead>\n",
       "    <tr style=\"text-align: right;\">\n",
       "      <th></th>\n",
       "      <th>1</th>\n",
       "      <th>netflix.com</th>\n",
       "    </tr>\n",
       "  </thead>\n",
       "  <tbody>\n",
       "    <tr>\n",
       "      <th>0</th>\n",
       "      <td>2</td>\n",
       "      <td>api-global.netflix.com</td>\n",
       "    </tr>\n",
       "    <tr>\n",
       "      <th>1</th>\n",
       "      <td>3</td>\n",
       "      <td>prod.netflix.com</td>\n",
       "    </tr>\n",
       "    <tr>\n",
       "      <th>2</th>\n",
       "      <td>4</td>\n",
       "      <td>push.prod.netflix.com</td>\n",
       "    </tr>\n",
       "    <tr>\n",
       "      <th>3</th>\n",
       "      <td>5</td>\n",
       "      <td>google.com</td>\n",
       "    </tr>\n",
       "    <tr>\n",
       "      <th>4</th>\n",
       "      <td>6</td>\n",
       "      <td>microsoft.com</td>\n",
       "    </tr>\n",
       "    <tr>\n",
       "      <th>...</th>\n",
       "      <td>...</td>\n",
       "      <td>...</td>\n",
       "    </tr>\n",
       "    <tr>\n",
       "      <th>999994</th>\n",
       "      <td>999996</td>\n",
       "      <td>taipei-a1.gp.schneider-electric.com</td>\n",
       "    </tr>\n",
       "    <tr>\n",
       "      <th>999995</th>\n",
       "      <td>999997</td>\n",
       "      <td>taiwantoday.tw</td>\n",
       "    </tr>\n",
       "    <tr>\n",
       "      <th>999996</th>\n",
       "      <td>999998</td>\n",
       "      <td>takethebestpics.com</td>\n",
       "    </tr>\n",
       "    <tr>\n",
       "      <th>999997</th>\n",
       "      <td>999999</td>\n",
       "      <td>takiedela.ru</td>\n",
       "    </tr>\n",
       "    <tr>\n",
       "      <th>999998</th>\n",
       "      <td>1000000</td>\n",
       "      <td>talcottresolution.com</td>\n",
       "    </tr>\n",
       "  </tbody>\n",
       "</table>\n",
       "<p>999999 rows × 2 columns</p>\n",
       "</div>"
      ],
      "text/plain": [
       "              1                          netflix.com\n",
       "0             2               api-global.netflix.com\n",
       "1             3                     prod.netflix.com\n",
       "2             4                push.prod.netflix.com\n",
       "3             5                           google.com\n",
       "4             6                        microsoft.com\n",
       "...         ...                                  ...\n",
       "999994   999996  taipei-a1.gp.schneider-electric.com\n",
       "999995   999997                       taiwantoday.tw\n",
       "999996   999998                  takethebestpics.com\n",
       "999997   999999                         takiedela.ru\n",
       "999998  1000000                talcottresolution.com\n",
       "\n",
       "[999999 rows x 2 columns]"
      ]
     },
     "execution_count": 28,
     "metadata": {},
     "output_type": "execute_result"
    }
   ],
   "source": [
    "\n",
    "\n",
    "df_umbrella = pd.read_csv(\"./flare/data/umbrella/top-1m.csv\")\n",
    "\n",
    "df_umbrella\n",
    "\n"
   ]
  },
  {
   "cell_type": "code",
   "execution_count": null,
   "metadata": {},
   "outputs": [],
   "source": []
  }
 ],
 "metadata": {
  "kernelspec": {
   "display_name": "Python 3.10.5 64-bit",
   "language": "python",
   "name": "python3"
  },
  "language_info": {
   "codemirror_mode": {
    "name": "ipython",
    "version": 3
   },
   "file_extension": ".py",
   "mimetype": "text/x-python",
   "name": "python",
   "nbconvert_exporter": "python",
   "pygments_lexer": "ipython3",
   "version": "3.10.5"
  },
  "orig_nbformat": 4,
  "vscode": {
   "interpreter": {
    "hash": "c97a6b054930e302a7f992f4ae678e34e1545dcd94a016616080a82fe144bc1d"
   }
  }
 },
 "nbformat": 4,
 "nbformat_minor": 2
}
